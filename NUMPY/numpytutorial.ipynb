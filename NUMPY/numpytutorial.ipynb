{
 "cells": [
  {
   "cell_type": "markdown",
   "id": "c3754797-176e-456a-ad1c-9990b222aea6",
   "metadata": {},
   "source": [
    "# welcome to the numpy "
   ]
  },
  {
   "cell_type": "code",
   "execution_count": 1,
   "id": "dbbd04bf-6f53-4a58-b8a6-4206531d9033",
   "metadata": {},
   "outputs": [],
   "source": [
    "import numpy as np"
   ]
  },
  {
   "cell_type": "code",
   "execution_count": 3,
   "id": "7e89c4b3-7c78-422b-ad09-a2a8e566c404",
   "metadata": {},
   "outputs": [],
   "source": [
    "myarr = np.array([45,45,7,6], np.int32)"
   ]
  },
  {
   "cell_type": "code",
   "execution_count": 4,
   "id": "8c841ca8-cf05-4ec1-a65c-32038eb07d1a",
   "metadata": {},
   "outputs": [
    {
     "data": {
      "text/plain": [
       "array([45, 45,  7,  6])"
      ]
     },
     "execution_count": 4,
     "metadata": {},
     "output_type": "execute_result"
    }
   ],
   "source": [
    "myarr"
   ]
  },
  {
   "cell_type": "code",
   "execution_count": 6,
   "id": "f686b8b3-0c6d-472f-8f46-6cdcebf7bdcd",
   "metadata": {},
   "outputs": [
    {
     "data": {
      "text/plain": [
       "(4,)"
      ]
     },
     "execution_count": 6,
     "metadata": {},
     "output_type": "execute_result"
    }
   ],
   "source": [
    "myarr.shape"
   ]
  },
  {
   "cell_type": "code",
   "execution_count": null,
   "id": "4f9870ea-593e-4b1f-a13f-920ebc761db4",
   "metadata": {},
   "outputs": [],
   "source": []
  },
  {
   "cell_type": "code",
   "execution_count": null,
   "id": "ee1fb445-6b65-4ab9-a2e7-f0467b757cab",
   "metadata": {},
   "outputs": [],
   "source": [
    "myarr.datatype"
   ]
  }
 ],
 "metadata": {
  "kernelspec": {
   "display_name": "Python 3 (ipykernel)",
   "language": "python",
   "name": "python3"
  },
  "language_info": {
   "codemirror_mode": {
    "name": "ipython",
    "version": 3
   },
   "file_extension": ".py",
   "mimetype": "text/x-python",
   "name": "python",
   "nbconvert_exporter": "python",
   "pygments_lexer": "ipython3",
   "version": "3.12.2"
  }
 },
 "nbformat": 4,
 "nbformat_minor": 5
}
